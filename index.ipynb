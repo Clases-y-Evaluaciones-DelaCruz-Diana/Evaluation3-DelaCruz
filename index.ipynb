{
 "cells": [
  {
   "cell_type": "code",
   "execution_count": 1,
   "id": "3afb7448",
   "metadata": {},
   "outputs": [],
   "source": [
    "#Evaluation 3"
   ]
  },
  {
   "cell_type": "code",
   "execution_count": 2,
   "id": "e6566bca",
   "metadata": {},
   "outputs": [],
   "source": [
    "#Primero se utilizaran los mapas del trabajo anterior"
   ]
  },
  {
   "cell_type": "code",
   "execution_count": 3,
   "id": "ccf60946",
   "metadata": {},
   "outputs": [
    {
     "data": {
      "text/plain": [
       "['countries', 'cities', 'rivers']"
      ]
     },
     "execution_count": 3,
     "metadata": {},
     "output_type": "execute_result"
    }
   ],
   "source": [
    "import os\n",
    "\n",
    "import geopandas as gpd\n",
    "from  fiona import listlayers\n",
    "\n",
    "#maps\n",
    "romaniaMaps='https://github.com/Clases-y-Evaluaciones-DelaCruz-Diana/Evaluation3-DelaCruz/raw/main/maps/romaniaMaps_4316.gpkg'\n",
    "\n",
    "#layers in maps\n",
    "listlayers(romaniaMaps)"
   ]
  },
  {
   "cell_type": "code",
   "execution_count": 4,
   "id": "fb510293",
   "metadata": {},
   "outputs": [],
   "source": [
    "romania=gpd.read_file(romaniaMaps,layer='countries')\n",
    "romania_cities=gpd.read_file(romaniaMaps,layer='cities')\n",
    "romania_rivers=gpd.read_file(romaniaMaps,layer='rivers') "
   ]
  },
  {
   "cell_type": "code",
   "execution_count": 6,
   "id": "4c8907dc",
   "metadata": {},
   "outputs": [
    {
     "data": {
      "text/plain": [
       "True"
      ]
     },
     "execution_count": 6,
     "metadata": {},
     "output_type": "execute_result"
    }
   ],
   "source": [
    "romania.crs.to_epsg()==romania_cities.crs.to_epsg()==romania_rivers.crs.to_epsg()"
   ]
  },
  {
   "cell_type": "code",
   "execution_count": 7,
   "id": "f895b481",
   "metadata": {},
   "outputs": [
    {
     "data": {
      "text/plain": [
       "<Axes: >"
      ]
     },
     "execution_count": 7,
     "metadata": {},
     "output_type": "execute_result"
    },
    {
     "data": {
      "image/png": "[encoded data removed]",
      "text/plain": [
       "<Figure size 640x480 with 1 Axes>"
      ]
     },
     "metadata": {},
     "output_type": "display_data"
    }
   ],
   "source": [
    "base = romania.plot(facecolor=\"greenyellow\")\n",
    "romania_rivers.plot(edgecolor='blue', linewidth=0.5,ax=base)\n",
    "romania_cities.plot(marker='+', color='red', markersize=15,ax=base)"
   ]
  },
  {
   "cell_type": "code",
   "execution_count": null,
   "id": "8e78a45d",
   "metadata": {},
   "outputs": [],
   "source": [
    "#Ejercicio 1"
   ]
  },
  {
   "cell_type": "code",
   "execution_count": null,
   "id": "8ca439fb",
   "metadata": {},
   "outputs": [],
   "source": [
    "romania"
   ]
  },
  {
   "cell_type": "code",
   "execution_count": null,
   "id": "9aa5925c",
   "metadata": {},
   "outputs": [],
   "source": [
    "romania.boundary"
   ]
  },
  {
   "cell_type": "code",
   "execution_count": null,
   "id": "aeda410b",
   "metadata": {},
   "outputs": [],
   "source": [
    "romania.boundary.plot()"
   ]
  },
  {
   "cell_type": "code",
   "execution_count": null,
   "id": "6098a9e9",
   "metadata": {},
   "outputs": [],
   "source": [
    "type(romania.boundary)"
   ]
  },
  {
   "cell_type": "code",
   "execution_count": null,
   "id": "848765b5",
   "metadata": {},
   "outputs": [],
   "source": [
    "# convirtiendo a GDF\n",
    "romania.boundary.to_frame()"
   ]
  },
  {
   "cell_type": "code",
   "execution_count": null,
   "id": "bc284fba",
   "metadata": {},
   "outputs": [],
   "source": [
    "# conversion\n",
    "romania_border=romania.boundary.to_frame() \n",
    "\n",
    "# new column (optional)\n",
    "romania_border['name']='Romania' \n",
    "\n",
    "# renaming the geometry column\n",
    "romania_border.rename(columns={0:'geometry'},inplace=True) \n",
    "\n",
    "#setting the geometry (the name is not enough)\n",
    "#cuando se coloca el set_geometry se debe colocar en comillas el nombre de la geometria\n",
    "romania_border = romania_border.set_geometry(\"geometry\")\n",
    "\n",
    "# verifying:\n",
    "romania_border.crs"
   ]
  },
  {
   "cell_type": "code",
   "execution_count": null,
   "id": "a829ef84",
   "metadata": {},
   "outputs": [],
   "source": [
    "romania_border"
   ]
  },
  {
   "cell_type": "code",
   "execution_count": null,
   "id": "1d501610",
   "metadata": {},
   "outputs": [],
   "source": [
    "#Ejercicio 2"
   ]
  },
  {
   "cell_type": "code",
   "execution_count": null,
   "id": "920269e0",
   "metadata": {},
   "outputs": [],
   "source": [
    "romania_states=gpd.read_file(os.path.join(\"maps\",\"DEU_adm\",\"DEU_adm2.shp\"))\n",
    "romania_municipalities=gpd.read_file(os.path.join(\"maps\",\"DEU_adm\",\"DEU_adm3.shp\"))"
   ]
  },
  {
   "cell_type": "code",
   "execution_count": null,
   "id": "34cede07",
   "metadata": {},
   "outputs": [],
   "source": []
  }
 ],
 "metadata": {
  "kernelspec": {
   "display_name": "Python 3 (ipykernel)",
   "language": "python",
   "name": "python3"
  },
  "language_info": {
   "codemirror_mode": {
    "name": "ipython",
    "version": 3
   },
   "file_extension": ".py",
   "mimetype": "text/x-python",
   "name": "python",
   "nbconvert_exporter": "python",
   "pygments_lexer": "ipython3",
   "version": "3.11.5"
  }
 },
 "nbformat": 4,
 "nbformat_minor": 5
}
